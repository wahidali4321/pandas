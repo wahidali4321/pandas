{
 "cells": [
  {
   "cell_type": "markdown",
   "id": "68809cd2",
   "metadata": {},
   "source": [
    "## practise of python"
   ]
  },
  {
   "cell_type": "code",
   "execution_count": 1,
   "id": "fa95437f",
   "metadata": {},
   "outputs": [
    {
     "data": {
      "text/plain": [
       "'wahid ali wazir is very good boy and he belong from south waziristan '"
      ]
     },
     "execution_count": 1,
     "metadata": {},
     "output_type": "execute_result"
    }
   ],
   "source": [
    "a=\"wahid ali wazir is very good boy and he belong from south waziristan \"\n",
    "a"
   ]
  },
  {
   "cell_type": "code",
   "execution_count": 2,
   "id": "261cc04a",
   "metadata": {},
   "outputs": [
    {
     "data": {
      "text/plain": [
       "'w'"
      ]
     },
     "execution_count": 2,
     "metadata": {},
     "output_type": "execute_result"
    }
   ],
   "source": [
    "a[0]"
   ]
  },
  {
   "cell_type": "code",
   "execution_count": 3,
   "id": "b46de94a",
   "metadata": {},
   "outputs": [
    {
     "data": {
      "text/plain": [
       "' '"
      ]
     },
     "execution_count": 3,
     "metadata": {},
     "output_type": "execute_result"
    }
   ],
   "source": [
    "a[5]"
   ]
  },
  {
   "cell_type": "code",
   "execution_count": 4,
   "id": "91f38103",
   "metadata": {},
   "outputs": [
    {
     "data": {
      "text/plain": [
       "'i'"
      ]
     },
     "execution_count": 4,
     "metadata": {},
     "output_type": "execute_result"
    }
   ],
   "source": [
    "a[8]"
   ]
  },
  {
   "cell_type": "code",
   "execution_count": 5,
   "id": "fea0bee3",
   "metadata": {},
   "outputs": [
    {
     "data": {
      "text/plain": [
       "69"
      ]
     },
     "execution_count": 5,
     "metadata": {},
     "output_type": "execute_result"
    }
   ],
   "source": [
    "len(a)"
   ]
  },
  {
   "cell_type": "code",
   "execution_count": 6,
   "id": "5fc7ea94",
   "metadata": {},
   "outputs": [
    {
     "data": {
      "text/plain": [
       "3"
      ]
     },
     "execution_count": 6,
     "metadata": {},
     "output_type": "execute_result"
    }
   ],
   "source": [
    "a.find(\"i\")"
   ]
  },
  {
   "cell_type": "code",
   "execution_count": 7,
   "id": "618b834f",
   "metadata": {},
   "outputs": [
    {
     "data": {
      "text/plain": [
       "'wahId alI wazIr Is very good boy and he belong from south wazIrIstan '"
      ]
     },
     "execution_count": 7,
     "metadata": {},
     "output_type": "execute_result"
    }
   ],
   "source": [
    "a.replace(\"i\",\"I\")"
   ]
  },
  {
   "cell_type": "code",
   "execution_count": 9,
   "id": "bfe3fe20",
   "metadata": {},
   "outputs": [
    {
     "data": {
      "text/plain": [
       "0"
      ]
     },
     "execution_count": 9,
     "metadata": {},
     "output_type": "execute_result"
    }
   ],
   "source": [
    "a.count(\"I\")"
   ]
  },
  {
   "cell_type": "code",
   "execution_count": 10,
   "id": "0c6045b6",
   "metadata": {},
   "outputs": [
    {
     "data": {
      "text/plain": [
       "'Wahid ali wazir is very good boy and he belong from south waziristan '"
      ]
     },
     "execution_count": 10,
     "metadata": {},
     "output_type": "execute_result"
    }
   ],
   "source": [
    "a.capitalize()"
   ]
  },
  {
   "cell_type": "code",
   "execution_count": 11,
   "id": "660585b7",
   "metadata": {},
   "outputs": [
    {
     "data": {
      "text/plain": [
       "'WAHID ALI WAZIR IS VERY GOOD BOY AND HE BELONG FROM SOUTH WAZIRISTAN '"
      ]
     },
     "execution_count": 11,
     "metadata": {},
     "output_type": "execute_result"
    }
   ],
   "source": [
    "a.upper()"
   ]
  },
  {
   "cell_type": "code",
   "execution_count": 12,
   "id": "f7b9a1b0",
   "metadata": {},
   "outputs": [
    {
     "data": {
      "text/plain": [
       "'wahid ali wazir is very good boy and he belong from south waziristan '"
      ]
     },
     "execution_count": 12,
     "metadata": {},
     "output_type": "execute_result"
    }
   ],
   "source": [
    "a.lower()"
   ]
  }
 ],
 "metadata": {
  "kernelspec": {
   "display_name": "Python 3 (ipykernel)",
   "language": "python",
   "name": "python3"
  },
  "language_info": {
   "codemirror_mode": {
    "name": "ipython",
    "version": 3
   },
   "file_extension": ".py",
   "mimetype": "text/x-python",
   "name": "python",
   "nbconvert_exporter": "python",
   "pygments_lexer": "ipython3",
   "version": "3.10.9"
  }
 },
 "nbformat": 4,
 "nbformat_minor": 5
}
